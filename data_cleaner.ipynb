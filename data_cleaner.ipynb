{
 "cells": [
  {
   "metadata": {
    "ExecuteTime": {
     "end_time": "2025-03-13T17:03:59.768945Z",
     "start_time": "2025-03-13T17:03:58.409522Z"
    }
   },
   "cell_type": "code",
   "source": [
    "import spacy\n",
    "from scispacy.abbreviation import AbbreviationDetector\n",
    "import re\n"
   ],
   "id": "d61965139e9c0571",
   "outputs": [],
   "execution_count": 1
  },
  {
   "metadata": {
    "ExecuteTime": {
     "end_time": "2025-03-13T17:04:06.531222Z",
     "start_time": "2025-03-13T17:04:00.307976Z"
    }
   },
   "cell_type": "code",
   "source": [
    "from datasets import load_dataset\n",
    "\n",
    "# Login using e.g. `huggingface-cli login` to access this dataset\n",
    "ds = load_dataset(\"jonathansuru/pharmacopeia_pdf\")"
   ],
   "id": "48c5e3b80c83bc20",
   "outputs": [],
   "execution_count": 2
  },
  {
   "metadata": {
    "ExecuteTime": {
     "end_time": "2025-03-13T17:04:06.560239Z",
     "start_time": "2025-03-13T17:04:06.551369Z"
    }
   },
   "cell_type": "code",
   "source": [
    "def clean_text(text):\n",
    "    \"\"\"Clean and preprocess table-like text to extract disease mentions.\"\"\"\n",
    "    # Remove table formatting and LaTeX-like patterns\n",
    "    text = re.sub(r'\\|\\s*\\d+\\s*\\|', ' ', text)  # Remove table cell numbers\n",
    "    text = re.sub(r'\\$\\\\begin\\{aligned\\}.*?\\\\end\\{aligned\\}\\$', ' ', text)  # Remove LaTeX\n",
    "    text = re.sub(r'<br>', ' ', text)  # Replace HTML breaks\n",
    "    text = re.sub(r'\\|\\s*:--:\\s*\\|', ' ', text)  # Remove table formatting\n",
    "    text = re.sub(r'\\|\\s*\\|', ' ', text)  # Remove empty cells\n",
    "    return text\n",
    "\n"
   ],
   "id": "12f70f57533f369a",
   "outputs": [],
   "execution_count": 3
  },
  {
   "metadata": {
    "ExecuteTime": {
     "end_time": "2025-03-13T17:04:06.606613Z",
     "start_time": "2025-03-13T17:04:06.596769Z"
    }
   },
   "cell_type": "code",
   "source": [
    "def extract_diseases(text, use_multiple_models=True):\n",
    "    \"\"\"\n",
    "    Extract disease mentions from text using multiple SciSpacy models.\n",
    "\n",
    "    Args:\n",
    "        text (str): The input text to analyze\n",
    "        use_multiple_models (bool): Whether to use multiple models for better coverage\n",
    "\n",
    "    Returns:\n",
    "        dict: Dictionary with disease entities and their sources\n",
    "    \"\"\"\n",
    "    # Clean the text to improve entity recognition\n",
    "    cleaned_text = clean_text(text)\n",
    "\n",
    "    # Store all detected disease entities\n",
    "    diseases = {}\n",
    "\n",
    "    # BC5CDR model - good for disease and chemical recognition\n",
    "    nlp_bc5cdr = spacy.load(\"en_ner_bc5cdr_md\")\n",
    "    nlp_bc5cdr.add_pipe(\"abbreviation_detector\")\n",
    "\n",
    "    doc = nlp_bc5cdr(cleaned_text)\n",
    "    for ent in doc.ents:\n",
    "        if ent.label_ == \"DISEASE\":\n",
    "            diseases[ent.text] = {\"source\": \"BC5CDR\", \"label\": \"DISEASE\"}\n",
    "\n",
    "    # Add abbreviation resolutions\n",
    "    for abrv in doc._.abbreviations:\n",
    "        if abrv.text not in diseases and abrv._.long_form.text in diseases:\n",
    "            diseases[abrv.text] = {\"source\": \"BC5CDR\", \"label\": \"DISEASE\",\n",
    "                                   \"abbreviation_of\": abrv._.long_form.text}\n",
    "\n",
    "    # If using multiple models for better coverage\n",
    "    if use_multiple_models:\n",
    "        # BioNLP13CG model for broader biomedical entity recognition\n",
    "        nlp_bionlp = spacy.load(\"en_ner_bionlp13cg_md\")\n",
    "        nlp_bionlp.add_pipe(\"abbreviation_detector\")\n",
    "\n",
    "        doc = nlp_bionlp(cleaned_text)\n",
    "        for ent in doc.ents:\n",
    "            if ent.label_ == \"DISORDER\" and ent.text not in diseases:\n",
    "                diseases[ent.text] = {\"source\": \"BioNLP13CG\", \"label\": \"DISORDER\"}\n",
    "\n",
    "    # Add common disease patterns not covered by models\n",
    "    disease_patterns = [\n",
    "            r\"(east coast fever)\",\n",
    "            r\"(theileriosis)\",\n",
    "            r\"(measles)\",\n",
    "            r\"(cough)\",\n",
    "            r\"(diarrhoea)\"\n",
    "    ]\n",
    "\n",
    "    for pattern in disease_patterns:\n",
    "        matches = re.finditer(pattern, cleaned_text, re.IGNORECASE)\n",
    "        for match in matches:\n",
    "            disease = match.group(0)\n",
    "            if disease not in diseases:\n",
    "                diseases[disease] = {\"source\": \"Pattern\", \"label\": \"DISEASE\"}\n",
    "\n",
    "    return diseases\n",
    "\n"
   ],
   "id": "1e49ba6467b4eb18",
   "outputs": [],
   "execution_count": 4
  },
  {
   "metadata": {
    "ExecuteTime": {
     "end_time": "2025-03-13T17:04:06.683999Z",
     "start_time": "2025-03-13T17:04:06.681913Z"
    }
   },
   "cell_type": "code",
   "source": [
    "data = []\n",
    "results = []"
   ],
   "id": "65e8a27fc82acd69",
   "outputs": [],
   "execution_count": 5
  },
  {
   "metadata": {
    "ExecuteTime": {
     "end_time": "2025-03-13T17:04:06.695627Z",
     "start_time": "2025-03-13T17:04:06.693464Z"
    }
   },
   "cell_type": "code",
   "source": "ds = ds['train']",
   "id": "42ed4672ec4a2e8f",
   "outputs": [],
   "execution_count": 6
  },
  {
   "metadata": {
    "ExecuteTime": {
     "end_time": "2025-03-13T17:18:35.468131Z",
     "start_time": "2025-03-13T17:04:06.701796Z"
    }
   },
   "cell_type": "code",
   "source": [
    "from tqdm import tqdm\n",
    "\n",
    "for i in tqdm(ds['text']):\n",
    "    result = extract_diseases(i)\n",
    "    if result:\n",
    "        data.append(i)\n",
    "        results.append(result)"
   ],
   "id": "a06daf4905ef1724",
   "outputs": [
    {
     "name": "stderr",
     "output_type": "stream",
     "text": [
      "  0%|          | 0/10003 [00:00<?, ?it/s]/opt/miniconda3/envs/OpenPharm/lib/python3.12/site-packages/spacy/language.py:2195: FutureWarning: Possible set union at position 6328\n",
      "  deserializers[\"tokenizer\"] = lambda p: self.tokenizer.from_disk(  # type: ignore[union-attr]\n",
      "  0%|          | 2/10003 [00:23<32:03:15, 11.54s/it]/opt/miniconda3/envs/OpenPharm/lib/python3.12/site-packages/scispacy/abbreviation.py:248: UserWarning: [W036] The component 'matcher' does not have any patterns defined.\n",
      "  global_matches = self.global_matcher(doc)\n",
      "  1%|          | 74/10003 [14:26<32:16:37, 11.70s/it]\n",
      "Exception ignored in: <bound method IPythonKernel._clean_thread_parent_frames of <ipykernel.ipkernel.IPythonKernel object at 0x1075f64e0>>\n",
      "Traceback (most recent call last):\n",
      "  File \"/opt/miniconda3/envs/OpenPharm/lib/python3.12/site-packages/ipykernel/ipkernel.py\", line 775, in _clean_thread_parent_frames\n",
      "    def _clean_thread_parent_frames(\n",
      "\n",
      "KeyboardInterrupt: \n"
     ]
    },
    {
     "ename": "KeyboardInterrupt",
     "evalue": "",
     "output_type": "error",
     "traceback": [
      "\u001B[31m---------------------------------------------------------------------------\u001B[39m",
      "\u001B[31mKeyboardInterrupt\u001B[39m                         Traceback (most recent call last)",
      "\u001B[36mCell\u001B[39m\u001B[36m \u001B[39m\u001B[32mIn[7]\u001B[39m\u001B[32m, line 4\u001B[39m\n\u001B[32m      1\u001B[39m \u001B[38;5;28;01mfrom\u001B[39;00m\u001B[38;5;250m \u001B[39m\u001B[34;01mtqdm\u001B[39;00m\u001B[38;5;250m \u001B[39m\u001B[38;5;28;01mimport\u001B[39;00m tqdm\n\u001B[32m      3\u001B[39m \u001B[38;5;28;01mfor\u001B[39;00m i \u001B[38;5;129;01min\u001B[39;00m tqdm(ds[\u001B[33m'\u001B[39m\u001B[33mtext\u001B[39m\u001B[33m'\u001B[39m]):\n\u001B[32m----> \u001B[39m\u001B[32m4\u001B[39m     result = \u001B[43mextract_diseases\u001B[49m\u001B[43m(\u001B[49m\u001B[43mi\u001B[49m\u001B[43m)\u001B[49m\n\u001B[32m      5\u001B[39m     \u001B[38;5;28;01mif\u001B[39;00m result:\n\u001B[32m      6\u001B[39m         data.append(i)\n",
      "\u001B[36mCell\u001B[39m\u001B[36m \u001B[39m\u001B[32mIn[4]\u001B[39m\u001B[32m, line 19\u001B[39m, in \u001B[36mextract_diseases\u001B[39m\u001B[34m(text, use_multiple_models)\u001B[39m\n\u001B[32m     16\u001B[39m diseases = {}\n\u001B[32m     18\u001B[39m \u001B[38;5;66;03m# BC5CDR model - good for disease and chemical recognition\u001B[39;00m\n\u001B[32m---> \u001B[39m\u001B[32m19\u001B[39m nlp_bc5cdr = \u001B[43mspacy\u001B[49m\u001B[43m.\u001B[49m\u001B[43mload\u001B[49m\u001B[43m(\u001B[49m\u001B[33;43m\"\u001B[39;49m\u001B[33;43men_ner_bc5cdr_md\u001B[39;49m\u001B[33;43m\"\u001B[39;49m\u001B[43m)\u001B[49m\n\u001B[32m     20\u001B[39m nlp_bc5cdr.add_pipe(\u001B[33m\"\u001B[39m\u001B[33mabbreviation_detector\u001B[39m\u001B[33m\"\u001B[39m)\n\u001B[32m     22\u001B[39m doc = nlp_bc5cdr(cleaned_text)\n",
      "\u001B[36mFile \u001B[39m\u001B[32m/opt/miniconda3/envs/OpenPharm/lib/python3.12/site-packages/spacy/__init__.py:51\u001B[39m, in \u001B[36mload\u001B[39m\u001B[34m(name, vocab, disable, enable, exclude, config)\u001B[39m\n\u001B[32m     27\u001B[39m \u001B[38;5;28;01mdef\u001B[39;00m\u001B[38;5;250m \u001B[39m\u001B[34mload\u001B[39m(\n\u001B[32m     28\u001B[39m     name: Union[\u001B[38;5;28mstr\u001B[39m, Path],\n\u001B[32m     29\u001B[39m     *,\n\u001B[32m   (...)\u001B[39m\u001B[32m     34\u001B[39m     config: Union[Dict[\u001B[38;5;28mstr\u001B[39m, Any], Config] = util.SimpleFrozenDict(),\n\u001B[32m     35\u001B[39m ) -> Language:\n\u001B[32m     36\u001B[39m \u001B[38;5;250m    \u001B[39m\u001B[33;03m\"\"\"Load a spaCy model from an installed package or a local path.\u001B[39;00m\n\u001B[32m     37\u001B[39m \n\u001B[32m     38\u001B[39m \u001B[33;03m    name (str): Package name or model path.\u001B[39;00m\n\u001B[32m   (...)\u001B[39m\u001B[32m     49\u001B[39m \u001B[33;03m    RETURNS (Language): The loaded nlp object.\u001B[39;00m\n\u001B[32m     50\u001B[39m \u001B[33;03m    \"\"\"\u001B[39;00m\n\u001B[32m---> \u001B[39m\u001B[32m51\u001B[39m     \u001B[38;5;28;01mreturn\u001B[39;00m \u001B[43mutil\u001B[49m\u001B[43m.\u001B[49m\u001B[43mload_model\u001B[49m\u001B[43m(\u001B[49m\n\u001B[32m     52\u001B[39m \u001B[43m        \u001B[49m\u001B[43mname\u001B[49m\u001B[43m,\u001B[49m\n\u001B[32m     53\u001B[39m \u001B[43m        \u001B[49m\u001B[43mvocab\u001B[49m\u001B[43m=\u001B[49m\u001B[43mvocab\u001B[49m\u001B[43m,\u001B[49m\n\u001B[32m     54\u001B[39m \u001B[43m        \u001B[49m\u001B[43mdisable\u001B[49m\u001B[43m=\u001B[49m\u001B[43mdisable\u001B[49m\u001B[43m,\u001B[49m\n\u001B[32m     55\u001B[39m \u001B[43m        \u001B[49m\u001B[43menable\u001B[49m\u001B[43m=\u001B[49m\u001B[43menable\u001B[49m\u001B[43m,\u001B[49m\n\u001B[32m     56\u001B[39m \u001B[43m        \u001B[49m\u001B[43mexclude\u001B[49m\u001B[43m=\u001B[49m\u001B[43mexclude\u001B[49m\u001B[43m,\u001B[49m\n\u001B[32m     57\u001B[39m \u001B[43m        \u001B[49m\u001B[43mconfig\u001B[49m\u001B[43m=\u001B[49m\u001B[43mconfig\u001B[49m\u001B[43m,\u001B[49m\n\u001B[32m     58\u001B[39m \u001B[43m    \u001B[49m\u001B[43m)\u001B[49m\n",
      "\u001B[36mFile \u001B[39m\u001B[32m/opt/miniconda3/envs/OpenPharm/lib/python3.12/site-packages/spacy/util.py:465\u001B[39m, in \u001B[36mload_model\u001B[39m\u001B[34m(name, vocab, disable, enable, exclude, config)\u001B[39m\n\u001B[32m    463\u001B[39m     \u001B[38;5;28;01mreturn\u001B[39;00m get_lang_class(name.replace(\u001B[33m\"\u001B[39m\u001B[33mblank:\u001B[39m\u001B[33m\"\u001B[39m, \u001B[33m\"\u001B[39m\u001B[33m\"\u001B[39m))()\n\u001B[32m    464\u001B[39m \u001B[38;5;28;01mif\u001B[39;00m is_package(name):  \u001B[38;5;66;03m# installed as package\u001B[39;00m\n\u001B[32m--> \u001B[39m\u001B[32m465\u001B[39m     \u001B[38;5;28;01mreturn\u001B[39;00m \u001B[43mload_model_from_package\u001B[49m\u001B[43m(\u001B[49m\u001B[43mname\u001B[49m\u001B[43m,\u001B[49m\u001B[43m \u001B[49m\u001B[43m*\u001B[49m\u001B[43m*\u001B[49m\u001B[43mkwargs\u001B[49m\u001B[43m)\u001B[49m  \u001B[38;5;66;03m# type: ignore[arg-type]\u001B[39;00m\n\u001B[32m    466\u001B[39m \u001B[38;5;28;01mif\u001B[39;00m Path(name).exists():  \u001B[38;5;66;03m# path to model data directory\u001B[39;00m\n\u001B[32m    467\u001B[39m     \u001B[38;5;28;01mreturn\u001B[39;00m load_model_from_path(Path(name), **kwargs)  \u001B[38;5;66;03m# type: ignore[arg-type]\u001B[39;00m\n",
      "\u001B[36mFile \u001B[39m\u001B[32m/opt/miniconda3/envs/OpenPharm/lib/python3.12/site-packages/spacy/util.py:501\u001B[39m, in \u001B[36mload_model_from_package\u001B[39m\u001B[34m(name, vocab, disable, enable, exclude, config)\u001B[39m\n\u001B[32m    484\u001B[39m \u001B[38;5;250m\u001B[39m\u001B[33;03m\"\"\"Load a model from an installed package.\u001B[39;00m\n\u001B[32m    485\u001B[39m \n\u001B[32m    486\u001B[39m \u001B[33;03mname (str): The package name.\u001B[39;00m\n\u001B[32m   (...)\u001B[39m\u001B[32m    498\u001B[39m \u001B[33;03mRETURNS (Language): The loaded nlp object.\u001B[39;00m\n\u001B[32m    499\u001B[39m \u001B[33;03m\"\"\"\u001B[39;00m\n\u001B[32m    500\u001B[39m \u001B[38;5;28mcls\u001B[39m = importlib.import_module(name)\n\u001B[32m--> \u001B[39m\u001B[32m501\u001B[39m \u001B[38;5;28;01mreturn\u001B[39;00m \u001B[38;5;28;43mcls\u001B[39;49m\u001B[43m.\u001B[49m\u001B[43mload\u001B[49m\u001B[43m(\u001B[49m\u001B[43mvocab\u001B[49m\u001B[43m=\u001B[49m\u001B[43mvocab\u001B[49m\u001B[43m,\u001B[49m\u001B[43m \u001B[49m\u001B[43mdisable\u001B[49m\u001B[43m=\u001B[49m\u001B[43mdisable\u001B[49m\u001B[43m,\u001B[49m\u001B[43m \u001B[49m\u001B[43menable\u001B[49m\u001B[43m=\u001B[49m\u001B[43menable\u001B[49m\u001B[43m,\u001B[49m\u001B[43m \u001B[49m\u001B[43mexclude\u001B[49m\u001B[43m=\u001B[49m\u001B[43mexclude\u001B[49m\u001B[43m,\u001B[49m\u001B[43m \u001B[49m\u001B[43mconfig\u001B[49m\u001B[43m=\u001B[49m\u001B[43mconfig\u001B[49m\u001B[43m)\u001B[49m\n",
      "\u001B[36mFile \u001B[39m\u001B[32m/opt/miniconda3/envs/OpenPharm/lib/python3.12/site-packages/en_ner_bc5cdr_md/__init__.py:10\u001B[39m, in \u001B[36mload\u001B[39m\u001B[34m(**overrides)\u001B[39m\n\u001B[32m      9\u001B[39m \u001B[38;5;28;01mdef\u001B[39;00m\u001B[38;5;250m \u001B[39m\u001B[34mload\u001B[39m(**overrides):\n\u001B[32m---> \u001B[39m\u001B[32m10\u001B[39m     \u001B[38;5;28;01mreturn\u001B[39;00m \u001B[43mload_model_from_init_py\u001B[49m\u001B[43m(\u001B[49m\u001B[34;43m__file__\u001B[39;49m\u001B[43m,\u001B[49m\u001B[43m \u001B[49m\u001B[43m*\u001B[49m\u001B[43m*\u001B[49m\u001B[43moverrides\u001B[49m\u001B[43m)\u001B[49m\n",
      "\u001B[36mFile \u001B[39m\u001B[32m/opt/miniconda3/envs/OpenPharm/lib/python3.12/site-packages/spacy/util.py:682\u001B[39m, in \u001B[36mload_model_from_init_py\u001B[39m\u001B[34m(init_file, vocab, disable, enable, exclude, config)\u001B[39m\n\u001B[32m    680\u001B[39m \u001B[38;5;28;01mif\u001B[39;00m \u001B[38;5;129;01mnot\u001B[39;00m model_path.exists():\n\u001B[32m    681\u001B[39m     \u001B[38;5;28;01mraise\u001B[39;00m \u001B[38;5;167;01mIOError\u001B[39;00m(Errors.E052.format(path=data_path))\n\u001B[32m--> \u001B[39m\u001B[32m682\u001B[39m \u001B[38;5;28;01mreturn\u001B[39;00m \u001B[43mload_model_from_path\u001B[49m\u001B[43m(\u001B[49m\n\u001B[32m    683\u001B[39m \u001B[43m    \u001B[49m\u001B[43mdata_path\u001B[49m\u001B[43m,\u001B[49m\n\u001B[32m    684\u001B[39m \u001B[43m    \u001B[49m\u001B[43mvocab\u001B[49m\u001B[43m=\u001B[49m\u001B[43mvocab\u001B[49m\u001B[43m,\u001B[49m\n\u001B[32m    685\u001B[39m \u001B[43m    \u001B[49m\u001B[43mmeta\u001B[49m\u001B[43m=\u001B[49m\u001B[43mmeta\u001B[49m\u001B[43m,\u001B[49m\n\u001B[32m    686\u001B[39m \u001B[43m    \u001B[49m\u001B[43mdisable\u001B[49m\u001B[43m=\u001B[49m\u001B[43mdisable\u001B[49m\u001B[43m,\u001B[49m\n\u001B[32m    687\u001B[39m \u001B[43m    \u001B[49m\u001B[43menable\u001B[49m\u001B[43m=\u001B[49m\u001B[43menable\u001B[49m\u001B[43m,\u001B[49m\n\u001B[32m    688\u001B[39m \u001B[43m    \u001B[49m\u001B[43mexclude\u001B[49m\u001B[43m=\u001B[49m\u001B[43mexclude\u001B[49m\u001B[43m,\u001B[49m\n\u001B[32m    689\u001B[39m \u001B[43m    \u001B[49m\u001B[43mconfig\u001B[49m\u001B[43m=\u001B[49m\u001B[43mconfig\u001B[49m\u001B[43m,\u001B[49m\n\u001B[32m    690\u001B[39m \u001B[43m\u001B[49m\u001B[43m)\u001B[49m\n",
      "\u001B[36mFile \u001B[39m\u001B[32m/opt/miniconda3/envs/OpenPharm/lib/python3.12/site-packages/spacy/util.py:547\u001B[39m, in \u001B[36mload_model_from_path\u001B[39m\u001B[34m(model_path, meta, vocab, disable, enable, exclude, config)\u001B[39m\n\u001B[32m    538\u001B[39m config = load_config(config_path, overrides=overrides)\n\u001B[32m    539\u001B[39m nlp = load_model_from_config(\n\u001B[32m    540\u001B[39m     config,\n\u001B[32m    541\u001B[39m     vocab=vocab,\n\u001B[32m   (...)\u001B[39m\u001B[32m    545\u001B[39m     meta=meta,\n\u001B[32m    546\u001B[39m )\n\u001B[32m--> \u001B[39m\u001B[32m547\u001B[39m \u001B[38;5;28;01mreturn\u001B[39;00m \u001B[43mnlp\u001B[49m\u001B[43m.\u001B[49m\u001B[43mfrom_disk\u001B[49m\u001B[43m(\u001B[49m\u001B[43mmodel_path\u001B[49m\u001B[43m,\u001B[49m\u001B[43m \u001B[49m\u001B[43mexclude\u001B[49m\u001B[43m=\u001B[49m\u001B[43mexclude\u001B[49m\u001B[43m,\u001B[49m\u001B[43m \u001B[49m\u001B[43moverrides\u001B[49m\u001B[43m=\u001B[49m\u001B[43moverrides\u001B[49m\u001B[43m)\u001B[49m\n",
      "\u001B[36mFile \u001B[39m\u001B[32m/opt/miniconda3/envs/OpenPharm/lib/python3.12/site-packages/spacy/language.py:2209\u001B[39m, in \u001B[36mLanguage.from_disk\u001B[39m\u001B[34m(self, path, exclude, overrides)\u001B[39m\n\u001B[32m   2206\u001B[39m \u001B[38;5;28;01mif\u001B[39;00m \u001B[38;5;129;01mnot\u001B[39;00m (path / \u001B[33m\"\u001B[39m\u001B[33mvocab\u001B[39m\u001B[33m\"\u001B[39m).exists() \u001B[38;5;129;01mand\u001B[39;00m \u001B[33m\"\u001B[39m\u001B[33mvocab\u001B[39m\u001B[33m\"\u001B[39m \u001B[38;5;129;01mnot\u001B[39;00m \u001B[38;5;129;01min\u001B[39;00m exclude:  \u001B[38;5;66;03m# type: ignore[operator]\u001B[39;00m\n\u001B[32m   2207\u001B[39m     \u001B[38;5;66;03m# Convert to list here in case exclude is (default) tuple\u001B[39;00m\n\u001B[32m   2208\u001B[39m     exclude = \u001B[38;5;28mlist\u001B[39m(exclude) + [\u001B[33m\"\u001B[39m\u001B[33mvocab\u001B[39m\u001B[33m\"\u001B[39m]\n\u001B[32m-> \u001B[39m\u001B[32m2209\u001B[39m \u001B[43mutil\u001B[49m\u001B[43m.\u001B[49m\u001B[43mfrom_disk\u001B[49m\u001B[43m(\u001B[49m\u001B[43mpath\u001B[49m\u001B[43m,\u001B[49m\u001B[43m \u001B[49m\u001B[43mdeserializers\u001B[49m\u001B[43m,\u001B[49m\u001B[43m \u001B[49m\u001B[43mexclude\u001B[49m\u001B[43m)\u001B[49m  \u001B[38;5;66;03m# type: ignore[arg-type]\u001B[39;00m\n\u001B[32m   2210\u001B[39m \u001B[38;5;28mself\u001B[39m._path = path  \u001B[38;5;66;03m# type: ignore[assignment]\u001B[39;00m\n\u001B[32m   2211\u001B[39m \u001B[38;5;28mself\u001B[39m._link_components()\n",
      "\u001B[36mFile \u001B[39m\u001B[32m/opt/miniconda3/envs/OpenPharm/lib/python3.12/site-packages/spacy/util.py:1390\u001B[39m, in \u001B[36mfrom_disk\u001B[39m\u001B[34m(path, readers, exclude)\u001B[39m\n\u001B[32m   1387\u001B[39m \u001B[38;5;28;01mfor\u001B[39;00m key, reader \u001B[38;5;129;01min\u001B[39;00m readers.items():\n\u001B[32m   1388\u001B[39m     \u001B[38;5;66;03m# Split to support file names like meta.json\u001B[39;00m\n\u001B[32m   1389\u001B[39m     \u001B[38;5;28;01mif\u001B[39;00m key.split(\u001B[33m\"\u001B[39m\u001B[33m.\u001B[39m\u001B[33m\"\u001B[39m)[\u001B[32m0\u001B[39m] \u001B[38;5;129;01mnot\u001B[39;00m \u001B[38;5;129;01min\u001B[39;00m exclude:\n\u001B[32m-> \u001B[39m\u001B[32m1390\u001B[39m         \u001B[43mreader\u001B[49m\u001B[43m(\u001B[49m\u001B[43mpath\u001B[49m\u001B[43m \u001B[49m\u001B[43m/\u001B[49m\u001B[43m \u001B[49m\u001B[43mkey\u001B[49m\u001B[43m)\u001B[49m\n\u001B[32m   1391\u001B[39m \u001B[38;5;28;01mreturn\u001B[39;00m path\n",
      "\u001B[36mFile \u001B[39m\u001B[32m/opt/miniconda3/envs/OpenPharm/lib/python3.12/site-packages/spacy/language.py:2185\u001B[39m, in \u001B[36mLanguage.from_disk.<locals>.deserialize_vocab\u001B[39m\u001B[34m(path)\u001B[39m\n\u001B[32m   2183\u001B[39m \u001B[38;5;28;01mdef\u001B[39;00m\u001B[38;5;250m \u001B[39m\u001B[34mdeserialize_vocab\u001B[39m(path: Path) -> \u001B[38;5;28;01mNone\u001B[39;00m:\n\u001B[32m   2184\u001B[39m     \u001B[38;5;28;01mif\u001B[39;00m path.exists():\n\u001B[32m-> \u001B[39m\u001B[32m2185\u001B[39m         \u001B[38;5;28;43mself\u001B[39;49m\u001B[43m.\u001B[49m\u001B[43mvocab\u001B[49m\u001B[43m.\u001B[49m\u001B[43mfrom_disk\u001B[49m\u001B[43m(\u001B[49m\u001B[43mpath\u001B[49m\u001B[43m,\u001B[49m\u001B[43m \u001B[49m\u001B[43mexclude\u001B[49m\u001B[43m=\u001B[49m\u001B[43mexclude\u001B[49m\u001B[43m)\u001B[49m\n",
      "\u001B[36mFile \u001B[39m\u001B[32m/opt/miniconda3/envs/OpenPharm/lib/python3.12/site-packages/spacy/vocab.pyx:515\u001B[39m, in \u001B[36mspacy.vocab.Vocab.from_disk\u001B[39m\u001B[34m()\u001B[39m\n",
      "\u001B[36mFile \u001B[39m\u001B[32m/opt/miniconda3/envs/OpenPharm/lib/python3.12/site-packages/spacy/vectors.pyx:718\u001B[39m, in \u001B[36mspacy.vectors.Vectors.from_disk\u001B[39m\u001B[34m()\u001B[39m\n",
      "\u001B[36mFile \u001B[39m\u001B[32m/opt/miniconda3/envs/OpenPharm/lib/python3.12/site-packages/spacy/util.py:1381\u001B[39m, in \u001B[36mfrom_disk\u001B[39m\u001B[34m(path, readers, exclude)\u001B[39m\n\u001B[32m   1377\u001B[39m             writer(path / key)\n\u001B[32m   1378\u001B[39m     \u001B[38;5;28;01mreturn\u001B[39;00m path\n\u001B[32m-> \u001B[39m\u001B[32m1381\u001B[39m \u001B[38;5;28;01mdef\u001B[39;00m\u001B[38;5;250m \u001B[39m\u001B[34mfrom_disk\u001B[39m(\n\u001B[32m   1382\u001B[39m     path: Union[\u001B[38;5;28mstr\u001B[39m, Path],\n\u001B[32m   1383\u001B[39m     readers: Dict[\u001B[38;5;28mstr\u001B[39m, Callable[[Path], \u001B[38;5;28;01mNone\u001B[39;00m]],\n\u001B[32m   1384\u001B[39m     exclude: Iterable[\u001B[38;5;28mstr\u001B[39m],\n\u001B[32m   1385\u001B[39m ) -> Path:\n\u001B[32m   1386\u001B[39m     path = ensure_path(path)\n\u001B[32m   1387\u001B[39m     \u001B[38;5;28;01mfor\u001B[39;00m key, reader \u001B[38;5;129;01min\u001B[39;00m readers.items():\n\u001B[32m   1388\u001B[39m         \u001B[38;5;66;03m# Split to support file names like meta.json\u001B[39;00m\n",
      "\u001B[31mKeyboardInterrupt\u001B[39m: "
     ]
    }
   ],
   "execution_count": 7
  },
  {
   "metadata": {
    "ExecuteTime": {
     "end_time": "2025-03-13T17:02:54.323724Z",
     "start_time": "2025-03-13T17:02:54.286798Z"
    }
   },
   "cell_type": "code",
   "source": "len(data)",
   "id": "4dfdbe1c884ba106",
   "outputs": [
    {
     "data": {
      "text/plain": [
       "15"
      ]
     },
     "execution_count": 26,
     "metadata": {},
     "output_type": "execute_result"
    }
   ],
   "execution_count": 26
  },
  {
   "metadata": {
    "jupyter": {
     "is_executing": true
    },
    "ExecuteTime": {
     "end_time": "2025-03-13T17:28:43.886140Z",
     "start_time": "2025-03-13T17:20:10.787376Z"
    }
   },
   "cell_type": "code",
   "source": [
    "from tqdm import tqdm\n",
    "import concurrent.futures\n",
    "from functools import partial\n",
    "\n",
    "def process_text(text):\n",
    "    result = extract_diseases(text)\n",
    "    if result:\n",
    "        return (text, result)\n",
    "    return None\n",
    "\n",
    "# Use ThreadPoolExecutor instead of ProcessPoolExecutor\n",
    "def parallel_extract_diseases(texts, max_workers=None):\n",
    "    data = []\n",
    "    results = []\n",
    "\n",
    "    with concurrent.futures.ThreadPoolExecutor(max_workers=max_workers) as executor:\n",
    "        # Use tqdm to track progress\n",
    "        processed_results = list(tqdm(\n",
    "                executor.map(process_text, texts),\n",
    "                total=len(texts)\n",
    "        ))\n",
    "\n",
    "        # Filter out None results and separate into data and results\n",
    "        for item in processed_results:\n",
    "            if item:\n",
    "                data.append(item[0])\n",
    "                results.append(item[1])\n",
    "\n",
    "    return data, results\n",
    "\n",
    "# Run the accelerated extraction\n",
    "data, results = parallel_extract_diseases(ds['text'])"
   ],
   "id": "9358654d5df21782",
   "outputs": [
    {
     "name": "stderr",
     "output_type": "stream",
     "text": [
      "  0%|          | 13/10003 [07:41<80:22:30, 28.96s/it] "
     ]
    }
   ],
   "execution_count": null
  },
  {
   "metadata": {},
   "cell_type": "code",
   "outputs": [],
   "execution_count": null,
   "source": "",
   "id": "740a7ee8d4a2f640"
  }
 ],
 "metadata": {
  "kernelspec": {
   "display_name": "Python 3",
   "language": "python",
   "name": "python3"
  },
  "language_info": {
   "codemirror_mode": {
    "name": "ipython",
    "version": 2
   },
   "file_extension": ".py",
   "mimetype": "text/x-python",
   "name": "python",
   "nbconvert_exporter": "python",
   "pygments_lexer": "ipython2",
   "version": "2.7.6"
  }
 },
 "nbformat": 4,
 "nbformat_minor": 5
}
